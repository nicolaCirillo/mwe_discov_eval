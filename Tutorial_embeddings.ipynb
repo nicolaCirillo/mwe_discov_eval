{
 "cells": [
  {
   "cell_type": "code",
   "execution_count": 1,
   "metadata": {},
   "outputs": [],
   "source": [
    "from gensim.models import Word2Vec\n",
    "\n",
    "from mwe_discov_eval.utils import ConllIterator, w2v_files\n",
    "from mwe_discov_eval.databases.EmbeddingsDb import W2VReader\n",
    "from mwe_discov_eval.databases import EmbeddingsDb, NgramDb\n",
    "from mwe_discov_eval.databases.EmbeddingsDb import W2VReader"
   ]
  },
  {
   "cell_type": "code",
   "execution_count": null,
   "metadata": {},
   "outputs": [],
   "source": [
    "corpus = \"mwe_discov_eval/samples/corpora/example.conllu\"\n",
    "idx_dict = {\"id\": 0, \"surface\": 1, \"lemma\": 2, \"pos\": 3}\n",
    "sentences = ConllIterator(corpus, idx_dict, codec='utf8')\n",
    "sentences.set_itermode('sent', keys=[\"lemma\", \"pos\"], join_values='/', ignore_compound=True)"
   ]
  },
  {
   "cell_type": "code",
   "execution_count": null,
   "metadata": {},
   "outputs": [],
   "source": [
    "# Saving iterator as txt to build ALaCarte matrix\n",
    "txt_file = \"mwe_discov_eval/samples/corpora/lemma_pos.txt\"\n",
    "sentences.save_as_text(txt_file, keys=[\"lemma\", \"pos\"], join_values='/', ignore_compound=True)"
   ]
  },
  {
   "cell_type": "code",
   "execution_count": null,
   "metadata": {},
   "outputs": [],
   "source": [
    "# Building word2vec embeddings of single words\n",
    "parameters = {'size': 200, 'window': 2, 'min_count': 100, 'sg': 1, 'iter': 10}\n",
    "model = Word2Vec(sentences, workers=5, **parameters)\n",
    "model_name = \"mwe_discov_eval/samples/embeddings/w2v\"\n",
    "model.save(model_name + '.model')\n",
    "word_vectors = model.wv\n",
    "word_vectors.save_word2vec_format(model_name + '.txt')"
   ]
  },
  {
   "cell_type": "code",
   "execution_count": null,
   "metadata": {},
   "outputs": [],
   "source": [
    "# Heading is removed from word2vec file to convert it in GloVe format for Alacarte\n",
    "w2v_files.remove_heading(\"mwe_discov_eval/samples/embeddings/w2v.txt\")"
   ]
  },
  {
   "cell_type": "code",
   "execution_count": null,
   "metadata": {},
   "outputs": [],
   "source": [
    "# Building ALaCarte transform matrix\n",
    "%run ALaCarte/alacarte.py -v -s mwe_discov_eval/samples/embeddings/w2v.txt -c mwe_discov_eval/samples/corpora/lemma_pos.txt -w 2  mwe_discov_eval/samples/embeddings/alacarte/matrix"
   ]
  },
  {
   "cell_type": "code",
   "execution_count": null,
   "metadata": {},
   "outputs": [],
   "source": [
    "# Extracting targets from ngram_db for ALaCarte\n",
    "ngram_db = NgramDb.load('mwe_discov_eval/samples/databases/sample_db')\n",
    "txt_file = \"mwe_discov_eval/samples/embeddings/alacarte/targets.txt\"\n",
    "ngram_db.connect()\n",
    "ngram_db.to_text(txt_file, 'lemma_pos_counts', 'lemma_pos', 1, sub=('\\t', '/'), mode='w')\n",
    "for n in range(2, ngram_db.n_max+1):\n",
    "    ngram_db.to_text(txt_file, 'lemma_pos_counts', 'lemma_pos', n, sub=('\\t', '/'), mode='a')\n",
    "ngram_db.disconnect()"
   ]
  },
  {
   "cell_type": "code",
   "execution_count": null,
   "metadata": {},
   "outputs": [],
   "source": [
    "#Building ALaCarte Embeddings\n",
    "%run ALaCarte/alacarte.py -v -m mwe_discov_eval/samples/embeddings/alacarte/matrix_transform.bin -s mwe_discov_eval/samples/embeddings/w2v.txt -w 2 -c mwe_discov_eval/samples/corpora/lemma_pos.txt -t mwe_discov_eval/samples/embeddings/alacarte/targets.txt mwe_discov_eval/samples/embeddings/vec --create-new"
   ]
  },
  {
   "cell_type": "code",
   "execution_count": 2,
   "metadata": {},
   "outputs": [
    {
     "name": "stderr",
     "output_type": "stream",
     "text": [
      "100%|█████████████████████████████████████████████████████████████████████| 2005630/2005630 [01:33<00:00, 21448.53it/s]\n"
     ]
    }
   ],
   "source": [
    "#Heading is added and word separator is changed back to '\\t'\n",
    "wv_file = \"mwe_discov_eval/samples/embeddings/vec_alacarte.txt\"\n",
    "w2v_files.add_heading(wv_file)\n",
    "w2v_files.sub_separator(wv_file, '/', '\\t')"
   ]
  },
  {
   "cell_type": "code",
   "execution_count": 3,
   "metadata": {},
   "outputs": [
    {
     "name": "stdout",
     "output_type": "stream",
     "text": [
      "Saving data into db...\n",
      "Done!\n",
      "Generating info file...\n",
      "Done!\n"
     ]
    }
   ],
   "source": [
    "#Generating embeddings database\n",
    "wv_file = \"mwe_discov_eval/samples/embeddings/vec_alacarte.txt\"\n",
    "fileroot = \"mwe_discov_eval/samples/databases/alacarte_emb\"\n",
    "emb_db = EmbeddingsDb.from_w2v(wv_file, fileroot)"
   ]
  },
  {
   "cell_type": "code",
   "execution_count": null,
   "metadata": {},
   "outputs": [],
   "source": []
  }
 ],
 "metadata": {
  "kernelspec": {
   "display_name": "Python 3",
   "language": "python",
   "name": "python3"
  },
  "language_info": {
   "codemirror_mode": {
    "name": "ipython",
    "version": 3
   },
   "file_extension": ".py",
   "mimetype": "text/x-python",
   "name": "python",
   "nbconvert_exporter": "python",
   "pygments_lexer": "ipython3",
   "version": "3.7.6"
  }
 },
 "nbformat": 4,
 "nbformat_minor": 4
}
