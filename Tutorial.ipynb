{
 "cells": [
  {
   "cell_type": "code",
   "execution_count": null,
   "metadata": {},
   "outputs": [],
   "source": [
    "## import\n",
    "from mwe_discov_eval.utils import ConllIterator\n",
    "from mwe_discov_eval.databases import NgramCounter, NgramDb, EmbeddingsDb\n",
    "from mwe_discov_eval.measures.am_extended import pmi, dice\n",
    "from mwe_discov_eval.measures.lexical_predictability_ratio import *\n",
    "from mwe_discov_eval.measures import AMExtendedCalc, FairDispPointCalc, CValueCalc, SynEntCalc, CompCalc\n",
    "from mwe_discov_eval.measures.am_bigrams import pmi as pmi_1\n",
    "from mwe_discov_eval.measures.am_bigrams import dice as dice_1"
   ]
  },
  {
   "cell_type": "code",
   "execution_count": null,
   "metadata": {},
   "outputs": [],
   "source": [
    "## Creates an object (ConllIterator) that iterates over sentences of a ConLL file.\n",
    "\n",
    "corpus = \"samples/corpora/sample_corpus.conllu\"\n",
    "# dictionary with features and their position in the ConLL lines.\n",
    "# format: {<feature, str>: <position, int>}  \n",
    "idx_dict = {\"id\": 0, \"surface\": 1, \"lemma\": 2, \"pos\": 3}\n",
    "sentences = ConllIterator(corpus, idx_dict, codec='utf8')\n",
    "# set_itermode changes the behaviour of the iterator.\n",
    "sentences.set_itermode('sent', keys=[\"surface\", \"lemma\", \"pos\"], ignore_compound=True)"
   ]
  },
  {
   "cell_type": "code",
   "execution_count": null,
   "metadata": {
    "scrolled": true,
    "tags": [
     "outputPrepend"
    ]
   },
   "outputs": [],
   "source": [
    "## Prints first 100 elements returned by the iterator\n",
    "\n",
    "sentences.sample()"
   ]
  },
  {
   "cell_type": "code",
   "execution_count": null,
   "metadata": {},
   "outputs": [],
   "source": [
    "## Counts occurrences of single words and of all ngrams in the corpus composed of 2 to 5 words\n",
    "\n",
    "counter = NgramCounter('samples/counters/sample_counter')\n",
    "counter.count_ngrams(sentences, [1,2,3,4,5])"
   ]
  },
  {
   "cell_type": "code",
   "execution_count": null,
   "metadata": {},
   "outputs": [],
   "source": [
    "## Aggregate counts according to the lemma+pos\n",
    "\n",
    "counter = NgramCounter.load('samples/counters/sample_counter')\n",
    "counter.aggregate_by('lemma_pos')"
   ]
  },
  {
   "cell_type": "code",
   "execution_count": null,
   "metadata": {},
   "outputs": [],
   "source": [
    "## Creates an ngram_db from the counter to compute MWE discovery metrics\n",
    "\n",
    "counter = NgramCounter.load('samples/counters/sample_counter')\n",
    "ngram_db = NgramDb.from_NgramCounter(counter, 'samples/databases/sample_db')"
   ]
  },
  {
   "cell_type": "code",
   "execution_count": null,
   "metadata": {},
   "outputs": [],
   "source": [
    "# Computes association metrics (AM)\n",
    "\n",
    "ngram_db = NgramDb.load('samples/databases/sample_db')\n",
    "calc = AMExtendedCalc([pmi, dice])\n",
    "calc.compute(ngram_db, 'lemma_pos_counts', 'lemma_pos')"
   ]
  },
  {
   "cell_type": "code",
   "execution_count": null,
   "metadata": {
    "scrolled": false
   },
   "outputs": [],
   "source": [
    "ngram_db = NgramDb.load('samples/databases/sample_db')\n",
    "calc = FairDispPointCalc([pmi_1, dice_1])\n",
    "calc.compute(ngram_db, 'lemma_pos_counts', 'lemma_pos')"
   ]
  },
  {
   "cell_type": "code",
   "execution_count": null,
   "metadata": {},
   "outputs": [],
   "source": [
    "ngram_db = NgramDb.load('samples/databases/sample_db')\n",
    "calc = CValueCalc()\n",
    "calc.compute(ngram_db, 'lemma_pos_counts', 'lemma_pos')"
   ]
  },
  {
   "cell_type": "code",
   "execution_count": null,
   "metadata": {},
   "outputs": [],
   "source": [
    "ngram_db = NgramDb.load('samples/databases/sample_db')\n",
    "calc = SynEntCalc()\n",
    "calc.compute(ngram_db, 'lemma_pos_counts', 'lemma_pos', 'ngram_counts')"
   ]
  },
  {
   "cell_type": "code",
   "execution_count": null,
   "metadata": {},
   "outputs": [],
   "source": [
    "ngram_db = NgramDb.load('samples/databases/sample_db')\n",
    "embedings_db = EmbeddingsDb.load(\"samples/databases/alacarte_emb\")\n",
    "calc = CompCalc()\n",
    "calc.compute(ngram_db, embedings_db, 'lemma_pos_counts', 'lemma_pos')"
   ]
  },
  {
   "cell_type": "code",
   "execution_count": null,
   "metadata": {},
   "outputs": [],
   "source": [
    "ngram_db = NgramDb.load('samples/databases/sample_db')\n",
    "calc = LPRCalc()\n",
    "calc.compute(ngram_db, 'lemma_pos_counts', 'lemma_pos', save_every=-1)"
   ]
  },
  {
   "cell_type": "code",
   "execution_count": null,
   "metadata": {},
   "outputs": [],
   "source": [
    "ngram_db = NgramDb.load('samples/databases/sample_db')\n",
    "calc = PredCalc()\n",
    "calc.compute(ngram_db, 'lemma_pos_counts', 'lemma_pos', save_every=-1)"
   ]
  }
 ],
 "metadata": {
  "kernelspec": {
   "name": "python3",
   "display_name": "Python 3.7.6 64-bit (conda)"
  },
  "language_info": {
   "codemirror_mode": {
    "name": "ipython",
    "version": 3
   },
   "file_extension": ".py",
   "mimetype": "text/x-python",
   "name": "python",
   "nbconvert_exporter": "python",
   "pygments_lexer": "ipython3",
   "version": "3.7.6"
  },
  "interpreter": {
   "hash": "5b923e8702b54481da16d37441ccf0ecf25f1b925191889641c0b10de85c2852"
  }
 },
 "nbformat": 4,
 "nbformat_minor": 4
}